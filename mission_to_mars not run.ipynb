{
 "cells": [
  {
   "cell_type": "code",
   "execution_count": 1,
   "metadata": {},
   "outputs": [],
   "source": [
    "# import dependencies\n",
    "import pandas as pd\n",
    "from splinter import Browser\n",
    "from bs4 import BeautifulSoup\n",
    "import requests\n",
    "import pymongo\n",
    "import time"
   ]
  },
  {
   "cell_type": "code",
   "execution_count": null,
   "metadata": {},
   "outputs": [],
   "source": [
    "# Scrape the NASA Mars News Site and collect the latest News Title and Paragraph Text. \n",
    "url='https://mars.nasa.gov/news/'\n",
    "\n",
    "# Retrieve page with the requests module\n",
    "# response = requests.get(url)\n",
    "# Create BeautifulSoup object; parse with 'html'\n",
    "\n",
    "executable_path = {'executable_path': 'chromedriver.exe'}\n",
    "browser = Browser('chrome', **executable_path, headless=False)\n",
    "\n",
    "browser.visit(url)\n",
    "\n",
    "time.sleep(5)\n",
    "html = browser.html\n",
    "soup = BeautifulSoup(html, 'html.parser')\n",
    "\n",
    "result = soup.find('div',class_='list_text')\n",
    "\n",
    "browser.quit()\n",
    "\n",
    "\n",
    "# Assign the text to variables that you can reference later.\n",
    "news_title = result.find('a').text\n",
    "news_p = result.find('div',class_='article_teaser_body').text"
   ]
  },
  {
   "cell_type": "code",
   "execution_count": null,
   "metadata": {},
   "outputs": [],
   "source": [
    "# Visit the url for JPL Featured Space Image here.\n",
    "url='https://www.jpl.nasa.gov/spaceimages/?search=&category=Mars'\n",
    "# Use splinter to navigate the site and find the image url for the current Featured Mars Image \n",
    "executable_path = {'executable_path': 'chromedriver.exe'}\n",
    "browser = Browser('chrome', **executable_path, headless=False)\n",
    "\n",
    "browser.visit(url)\n",
    "\n",
    "browser.click_link_by_partial_text('FULL IMAGE')\n",
    "time.sleep(2) #allow time for button to appear\n",
    "browser.click_link_by_partial_text('more info')\n",
    "\n",
    "html=browser.html\n",
    "soup = BeautifulSoup(html, 'html.parser')\n",
    "\n",
    "result=soup.find('figure', class_='lede')\n",
    "imgsource=result.find('a')['href']\n",
    "\n",
    "browser.quit()\n",
    "\n",
    "\n",
    "# assign the url string to a variable called featured_image_url.\n",
    "featured_image_url='https://www.jpl.nasa.gov'+imgsource\n",
    "featured_image_url"
   ]
  },
  {
   "cell_type": "code",
   "execution_count": null,
   "metadata": {},
   "outputs": [],
   "source": [
    "#  Visit the Mars Weather twitter account\n",
    "# scrape the latest Mars weather tweet from the page.\n",
    "# Scrape the NASA Mars News Site and collect the latest News Title and Paragraph Text.\n",
    "url='https://twitter.com/marswxreport?lang=en'\n",
    "\n",
    "# Retrieve page with the requests module\n",
    "response = requests.get(url)\n",
    "# Create BeautifulSoup object; parse with 'html'\n",
    "soup = BeautifulSoup(response.text, 'html')\n",
    "\n",
    "result = soup.find('p',class_='tweet-text')\n",
    "\n",
    "# Save the tweet text for the weather report as a variable called mars_weather.\n",
    "mars_weather = result.text\n",
    "mars_weather"
   ]
  }
 ],
 "metadata": {
  "kernelspec": {
   "display_name": "Python 3",
   "language": "python",
   "name": "python3"
  },
  "language_info": {
   "codemirror_mode": {
    "name": "ipython",
    "version": 3
   },
   "file_extension": ".py",
   "mimetype": "text/x-python",
   "name": "python",
   "nbconvert_exporter": "python",
   "pygments_lexer": "ipython3",
   "version": "3.7.0"
  }
 },
 "nbformat": 4,
 "nbformat_minor": 2
}
